{
 "cells": [
  {
   "attachments": {},
   "cell_type": "markdown",
   "metadata": {},
   "source": [
    "# Oject detection evaluation\n",
    "\n",
    "Test a Detector on A Customized Dataset (here, I use the Faster RCNN)\n"
   ]
  },
  {
   "cell_type": "markdown",
   "metadata": {},
   "source": [
    "## Install"
   ]
  },
  {
   "attachments": {},
   "cell_type": "markdown",
   "metadata": {},
   "source": [
    "## Load the model"
   ]
  },
  {
   "cell_type": "code",
   "execution_count": null,
   "metadata": {},
   "outputs": [],
   "source": [
    "import matplotlib\n",
    "import matplotlib.pyplot as plt\n",
    "from Gradcam.detectron2_gradcam import Detectron2GradCAM\n",
    "\n",
    "from detectron2.utils.visualizer import Visualizer\n",
    "from detectron2.data import MetadataCatalog\n",
    "from detectron2 import model_zoo\n",
    "\n",
    "from Gradcam.gradcam import GradCAM, GradCamPlusPlus\n",
    "\n",
    "\"\"\"\n",
    "choose the object instance you want to perfrom GradCAM on. It's defined by `instance = 0`\n",
    "\"\"\"\n",
    "\n",
    "plt.rcParams[\"figure.figsize\"] = (30,10)\n",
    "\n",
    "img = r\"/scratch/tjian/Data/Peng_SSL/SL_test/test/A10-P-27_jpg.rf.75405e9b088a961dbcc7e73d4ce2dc10.jpg\"\n",
    "saved_img = r\"/scratch/tjian/Data/Peng_SSL/Gradcam/1.jpg\"\n",
    "\n",
    "# model path\n",
    "# SC_FTAL_F2_80%_best\n",
    "model_checkpoint_path = r\"/scratch/tjian/PythonProject/deep_pollutant_SSL/checkpoints/train_weights/SSL_SC_FTAL_F2/Train_80%/model_best_89.1765.pth\"\n",
    "model_config_path = r\"/scratch/tjian/PythonProject/deep_pollutant_SSL/checkpoints/train_weights/SSL_SC_FTAL_F2/Train_80%/config.yaml\"\n",
    "\n",
    "\n",
    "layer_name = \"backbone.bottom_up.res5.2.conv3\"\n",
    "instance = 8 #CAM is generated per object instance, not per class!\n",
    "\n",
    "cam_extractor = Detectron2GradCAM(config_file=model_config_path, model_file=model_checkpoint_path)\n",
    "\n",
    "image_dict, cam_orig = cam_extractor.get_cam(img=img, target_instance=instance, layer_name=layer_name, grad_cam_type=\"GradCAM\")\n",
    "v = Visualizer(image_dict[\"image\"], MetadataCatalog.get(cam_extractor.cfg.DATASETS.TRAIN[0]), scale=1.0)\n",
    "out = v.draw_instance_predictions(image_dict[\"output\"][0][\"instances\"][instance].to(\"cpu\"))\n",
    "\n",
    "plt.imshow(out.get_image(), interpolation='none')\n",
    "plt.imshow(image_dict[\"cam\"], cmap='jet', alpha=0.5)\n",
    "\n",
    "plt.title(f\"CAM for Instance {instance} (class {image_dict['label']})\")\n",
    "\n",
    "# Save the figure before showing it\n",
    "plt.savefig(saved_img, dpi=300, bbox_inches='tight')\n",
    "\n",
    "# plt.show()"
   ]
  },
  {
   "cell_type": "code",
   "execution_count": null,
   "metadata": {},
   "outputs": [],
   "source": [
    "# model path\n",
    "# SC_FTAL_F2_80%_best\n",
    "model_checkpoint_path = \"/scratch/tjian/PythonProject/deep_pollutant_SSL/checkpoints/train_weights/SSL_SC_FTAL_F2/Train_80%/model_best_89.1765.pth\"\n",
    "model_config_path = \"/scratch/tjian/PythonProject/deep_pollutant_SSL/checkpoints/train_weights/SSL_SC_FTAL_F2/Train_80%/config.yaml\"\n",
    "\n",
    "# baseline_FTAL_F2_80%_best\n",
    "# model_checkpoint_path = \"/scratch/tjian/PythonProject/deep_pollutant_SSL/checkpoints/train_weights/SL_F2_2/Train_80%/model_best_91.1003.pth\"\n",
    "# model_config_path = \"/scratch/tjian/PythonProject/deep_pollutant_SSL/checkpoints/train_weights/SL_F2_2/Train_80%/config.yaml\"\n",
    "\n",
    "# SW_FTAL_F2_80%_best\n",
    "# model_checkpoint_path = \"/scratch/tjian/PythonProject/deep_pollutant_SSL/checkpoints/train_weights/SSL_SwAV_FTAL_F2_1/Train_80%/model_best_89.6902.pth\"\n",
    "# model_config_path = \"/scratch/tjian/PythonProject/deep_pollutant_SSL/checkpoints/train_weights/SSL_SwAV_FTAL_F2_1/Train_80%/config.yaml\"\n",
    "\n",
    "# model_checkpoint_path = \"/scratch/tjian/PythonProject/deep_pollutant_SSL/checkpoints/train_weights/SL_F2_2/Train_100%/model_best_74.8527.pth\"\n",
    "# model_config_path = \"/scratch/tjian/PythonProject/deep_pollutant_SSL/checkpoints/train_weights/SL_F2_2/Train_100%/config.yaml\"\n",
    "\n",
    "\n",
    "\n"
   ]
  },
  {
   "cell_type": "code",
   "execution_count": null,
   "metadata": {},
   "outputs": [],
   "source": [
    "from detectron2.data.datasets import register_coco_instances\n",
    "\n",
    "register_coco_instances(\"Pollutant_train_80%\", {}, \"/scratch/tjian/Data/Pollutant_SSL/labeled/SL_train_80%/annotations/train.json\", \"/scratch/tjian/Data/Pollutant_SSL/labeled/SL_train_80%/train/\")\n",
    "register_coco_instances(\"Pollutant_val_80%\", {}, \"/scratch/tjian/Data/Pollutant_SSL/labeled/SL_train_80%/annotations/val.json\", \"/scratch/tjian/Data/Pollutant_SSL/labeled/SL_train_80%/val/\")\n",
    "\n",
    "from detectron2.data import MetadataCatalog\n",
    "\n",
    "# Get and modify metadata\n",
    "metadata = MetadataCatalog.get(\"Pollutant_train_80%\")\n",
    "metadata.thing_classes = [\"entrap bean\", \"free bean\"]  # Replace with actual class names\n",
    "\n",
    "print(\"thing_classes:\", getattr(metadata, 'thing_classes', 'No thing_classes attribute'))"
   ]
  },
  {
   "cell_type": "code",
   "execution_count": null,
   "metadata": {},
   "outputs": [],
   "source": [
    "import matplotlib\n",
    "import matplotlib.pyplot as plt\n",
    "from Gradcam.detectron2_gradcam import Detectron2GradCAM\n",
    "\n",
    "from detectron2.utils.visualizer import Visualizer\n",
    "from detectron2.data import MetadataCatalog\n",
    "from detectron2 import model_zoo\n",
    "\n",
    "from Gradcam.gradcam import GradCAM, GradCamPlusPlus\n",
    "\n",
    "\"\"\"\n",
    "choose the object instance you want to perfrom GradCAM on. It's defined by `instance = 0`\n",
    "\"\"\"\n",
    "\n",
    "plt.rcParams[\"figure.figsize\"] = (30,10)\n",
    "\n",
    "img = r\"/scratch/tjian/Data/Peng_SSL/SL_test/test/A10-P-27_jpg.rf.75405e9b088a961dbcc7e73d4ce2dc10.jpg\"\n",
    "saved_img = r\"/scratch/tjian/Data/Peng_SSL/Gradcam/backbone.res4.5.conv3.jpg\"\n",
    "\n",
    "# model path\n",
    "# SC_FTAL_F2_80%_best\n",
    "model_checkpoint_path = r\"/scratch/tjian/PythonProject/deep_pollutant_SSL/checkpoints/train_weights/SSL_SC_FTAL_F2/Train_80%/model_best_89.1765.pth\"\n",
    "model_config_path = r\"/scratch/tjian/PythonProject/deep_pollutant_SSL/checkpoints/train_weights/SSL_SC_FTAL_F2/Train_80%/config.yaml\"\n",
    "\n",
    "config_list = [\n",
    "\"MODEL.ROI_HEADS.SCORE_THRESH_TEST\", \"0.5\",\n",
    "\"MODEL.ROI_HEADS.NUM_CLASSES\", \"2\",\n",
    "\"MODEL.WEIGHTS\", model_checkpoint_path\n",
    "]\n",
    "\n",
    "layer_name = \"backbone.res4.5.conv3\"\n",
    "\n",
    "instance = 0 #CAM is generated per object instance, not per class!\n",
    "\n",
    "cam_extractor = Detectron2GradCAM(config_file=model_config_path, model_file=model_checkpoint_path)\n",
    "\n",
    "image_dict, cam_orig = cam_extractor.get_cam(img=img, target_instance=instance, layer_name=layer_name, grad_cam_type=\"GradCAM\")\n",
    "\n",
    "v = Visualizer(image_dict[\"image\"], MetadataCatalog.get(cam_extractor.cfg.DATASETS.TRAIN[0]), scale=1.0)\n",
    "out = v.draw_instance_predictions(image_dict[\"output\"][0][\"instances\"][instance].to(\"cpu\"))\n",
    "\n",
    "plt.imshow(out.get_image(), interpolation='none')\n",
    "plt.imshow(image_dict[\"cam\"], cmap='jet', alpha=0.5)\n",
    "\n",
    "plt.title(f\"CAM for Instance {instance} (class {image_dict['label']})\")\n",
    "\n",
    "# # # Save the figure before showing it\n",
    "# plt.savefig(f\"instance_{instance}_cam.jpg\", dpi=100)\n",
    "plt.savefig(saved_img, dpi=100)\n",
    "# plt.show()\n",
    "\n",
    "\n",
    "\n"
   ]
  }
 ],
 "metadata": {
  "kernelspec": {
   "display_name": "Python 3",
   "language": "python",
   "name": "python3"
  },
  "language_info": {
   "codemirror_mode": {
    "name": "ipython",
    "version": 3
   },
   "file_extension": ".py",
   "mimetype": "text/x-python",
   "name": "python",
   "nbconvert_exporter": "python",
   "pygments_lexer": "ipython3",
   "version": "3.9.12"
  },
  "pycharm": {
   "stem_cell": {
    "cell_type": "raw",
    "metadata": {
     "collapsed": false
    },
    "source": []
   }
  }
 },
 "nbformat": 4,
 "nbformat_minor": 4
}
