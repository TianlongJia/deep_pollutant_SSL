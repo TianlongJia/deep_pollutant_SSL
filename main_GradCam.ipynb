{
 "cells": [
  {
   "attachments": {},
   "cell_type": "markdown",
   "metadata": {},
   "source": [
    "# GradCam/GradCam++ for detectron2\n",
    "\n",
    "This code can be run in \"cpu\"\n",
    "\n",
    "Refer: https://github.com/alexriedel1/detectron2-GradCAM"
   ]
  },
  {
   "attachments": {},
   "cell_type": "markdown",
   "metadata": {},
   "source": [
    "## Register datasets"
   ]
  },
  {
   "cell_type": "code",
   "execution_count": null,
   "metadata": {},
   "outputs": [],
   "source": [
    "import matplotlib\n",
    "import matplotlib.pyplot as plt\n",
    "import os\n",
    "import gc  # Import garbage collection module\n",
    "\n",
    "from Gradcam.detectron2_gradcam import Detectron2GradCAM\n",
    "from detectron2.utils.visualizer import Visualizer\n",
    "from detectron2.data import MetadataCatalog\n",
    "from detectron2 import model_zoo\n",
    "from Gradcam.gradcam import GradCAM, GradCamPlusPlus\n",
    "from detectron2.data.datasets import register_coco_instances\n",
    "from detectron2.data import MetadataCatalog\n",
    "\n",
    "register_coco_instances(\"Pollutant_train_80%\", {}, \"/scratch/tjian/Data/Pollutant_SSL/labeled/SL_train_80%/annotations/train.json\", \"/scratch/tjian/Data/Pollutant_SSL/labeled/SL_train_80%/train/\")\n",
    "register_coco_instances(\"Pollutant_val_80%\", {}, \"/scratch/tjian/Data/Pollutant_SSL/labeled/SL_train_80%/annotations/val.json\", \"/scratch/tjian/Data/Pollutant_SSL/labeled/SL_train_80%/val/\")\n",
    "\n",
    "\n",
    "# Get and modify metadata\n",
    "metadata = MetadataCatalog.get(\"Pollutant_train_80%\")\n",
    "metadata.thing_classes = [\"entrapped particle\", \"free particle\"]  # Replace with actual class names\n",
    "\n",
    "# print(\"thing_classes:\", getattr(metadata, 'thing_classes', 'No thing_classes attribute'))"
   ]
  },
  {
   "cell_type": "markdown",
   "metadata": {},
   "source": [
    "## Load model"
   ]
  },
  {
   "cell_type": "code",
   "execution_count": null,
   "metadata": {},
   "outputs": [],
   "source": [
    "# model path\n",
    "# SC_FTAL_F2_80%_best\n",
    "model_checkpoint_path = \"/scratch/tjian/PythonProject/deep_pollutant_SSL/checkpoints/train_weights/SSL_SC_FTAL_F2/Train_80%/model_best_89.1765.pth\"\n",
    "model_config_path = \"/scratch/tjian/PythonProject/deep_pollutant_SSL/checkpoints/train_weights/SSL_SC_FTAL_F2/Train_80%/config.yaml\"\n",
    "\n",
    "# baseline_FTAL_F2_80%_best\n",
    "# model_checkpoint_path = \"/scratch/tjian/PythonProject/deep_pollutant_SSL/checkpoints/train_weights/SL_F2_2/Train_80%/model_best_91.1003.pth\"\n",
    "# model_config_path = \"/scratch/tjian/PythonProject/deep_pollutant_SSL/checkpoints/train_weights/SL_F2_2/Train_80%/config.yaml\"\n",
    "\n",
    "# SW_FTAL_F2_80%_best\n",
    "# model_checkpoint_path = \"/scratch/tjian/PythonProject/deep_pollutant_SSL/checkpoints/train_weights/SSL_SwAV_FTAL_F2_1/Train_80%/model_best_89.6902.pth\"\n",
    "# model_config_path = \"/scratch/tjian/PythonProject/deep_pollutant_SSL/checkpoints/train_weights/SSL_SwAV_FTAL_F2_1/Train_80%/config.yaml\"\n",
    "\n",
    "\n",
    "config_list = [\n",
    "\"MODEL.ROI_HEADS.SCORE_THRESH_TEST\", \"0.5\",\n",
    "\"MODEL.ROI_HEADS.NUM_CLASSES\", \"2\",\n",
    "\"MODEL.WEIGHTS\", model_checkpoint_path\n",
    "]\n",
    "\n",
    "\n",
    "# define the layer for CAM\n",
    "# layer_name = \"backbone.res4.5.conv3\"\n",
    "layer_name = \"roi_heads.res5.2.conv3\"\n",
    "# layer_name = \"backbone.res2.0.conv1\""
   ]
  },
  {
   "cell_type": "markdown",
   "metadata": {},
   "source": [
    "## Select GradCAM type"
   ]
  },
  {
   "cell_type": "code",
   "execution_count": null,
   "metadata": {},
   "outputs": [],
   "source": [
    "# (1) \"GradCAM\"\n",
    "# grad_cam_type=\"GradCAM\"\n",
    "\n",
    "# (2) \"GradCAM++\"\n",
    "grad_cam_type=\"GradCAM++\""
   ]
  },
  {
   "cell_type": "markdown",
   "metadata": {},
   "source": [
    "## Run CAM\n",
    "Note: CAM is generated per object instance, not per class! Thus, if \"num_instances\" predicted by models is 2, then CAM will output two images for each instance, e.g., \"XXX_instance_0.jpg\" and \"XXX_instance_1.jpg\""
   ]
  },
  {
   "cell_type": "markdown",
   "metadata": {},
   "source": [
    "### (1) On one image"
   ]
  },
  {
   "cell_type": "code",
   "execution_count": null,
   "metadata": {},
   "outputs": [],
   "source": [
    "# define the input image and output folder\n",
    "img = r\"/scratch/tjian/Data/Peng_SSL/test/A10-P-27.jpg\"\n",
    "output_path = r\"/scratch/tjian/Data/Peng_SSL/\"\n",
    "\n",
    "cam_extractor = Detectron2GradCAM(config_file=model_config_path, model_file=model_checkpoint_path)\n",
    "\n",
    "# Check the number of detected instances\n",
    "num_instances = cam_extractor.check_num_instances(img)\n",
    "print(f\"Number of detected instances: {num_instances}\")\n",
    "\n",
    "if num_instances > 0:\n",
    "    for i in range(num_instances):\n",
    "        image_dict, cam_orig = cam_extractor.get_cam(img=img, target_instance=i, layer_name=layer_name, grad_cam_type=grad_cam_type)\n",
    "        v = Visualizer(image_dict[\"image\"], MetadataCatalog.get(cam_extractor.cfg.DATASETS.TRAIN[0]), scale=1.0)\n",
    "        out = v.draw_instance_predictions(image_dict[\"output\"][0][\"instances\"][i].to(\"cpu\"))\n",
    "        plt.figure(figsize=(image_dict[\"image\"].shape[1]/100, image_dict[\"image\"].shape[0]/100))\n",
    "        plt.imshow(out.get_image(), interpolation='none')\n",
    "        plt.imshow(image_dict[\"cam\"], cmap='jet', alpha=0.5)\n",
    "        plt.axis('off')  # Hide axes\n",
    "        plt.title(f\"CAM for Instance {i} (class {image_dict['label']})\")\n",
    "        # define the output image name\n",
    "        output_img_name = \"A10-P-27\" + \"_instance_\" + str(i) + \".jpg\"  # Correctly convert integer to string\n",
    "        output_img_path = os.path.join(output_path, output_img_name)\n",
    "        # print(output_img_path)\n",
    "        # Save the figure\n",
    "        plt.savefig(output_img_path, dpi=100, bbox_inches='tight', pad_inches=0)\n",
    "        plt.close() \n",
    "else:\n",
    "    print(\"No instances detected.\")\n"
   ]
  },
  {
   "cell_type": "markdown",
   "metadata": {},
   "source": [
    "### (2) On images in a folder"
   ]
  },
  {
   "cell_type": "code",
   "execution_count": null,
   "metadata": {},
   "outputs": [],
   "source": [
    "# define the input image path and output folder\n",
    "input_path = r\"/scratch/tjian/Data/Peng_SSL/test/\"\n",
    "# output_path = r\"/scratch/tjian/Data/Peng_SSL/SL_CAM/Gradcam++/backbone.res4.5.conv3/\"\n",
    "# output_path = r\"/scratch/tjian/Data/Peng_SSL/SL_CAM/Gradcam++/roi_heads.res5.2.conv3/\"\n",
    "output_path = r\"/scratch/tjian/Data/Peng_SSL/SSL_SC/GradCAM++/backbone.res2.0.conv1/\"\n",
    "\n",
    "\n",
    "cam_extractor = Detectron2GradCAM(config_file=model_config_path, model_file=model_checkpoint_path)\n",
    "\n",
    "file_names = os.listdir(input_path)\n",
    "for filename in file_names:\n",
    "        if filename.endswith('.jpg'):\n",
    "            image_path = os.path.join(input_path, filename)\n",
    "            # Check the number of detected instances\n",
    "            num_instances = cam_extractor.check_num_instances(image_path)\n",
    "            # print(f\"Number of detected instances: {num_instances}\")\n",
    "            if num_instances > 0:\n",
    "                for i in range(num_instances):\n",
    "                    image_dict, cam_orig = cam_extractor.get_cam(img=image_path, target_instance=i, layer_name=layer_name, grad_cam_type=grad_cam_type)\n",
    "                    v = Visualizer(image_dict[\"image\"], MetadataCatalog.get(cam_extractor.cfg.DATASETS.TRAIN[0]), scale=1.0)\n",
    "                    out = v.draw_instance_predictions(image_dict[\"output\"][0][\"instances\"][i].to(\"cpu\"))\n",
    "                    plt.figure(figsize=(image_dict[\"image\"].shape[1]/100, image_dict[\"image\"].shape[0]/100))\n",
    "                    plt.imshow(out.get_image(), interpolation='none')\n",
    "                    plt.imshow(image_dict[\"cam\"], cmap='jet', alpha=0.5)\n",
    "                    plt.axis('off')  # Hide axes\n",
    "                    plt.title(f\"CAM for Instance {i} (class {image_dict['label']})\")\n",
    "                    # define the output image name\n",
    "                    # head, sep, tail = filename.partition('.')\n",
    "                    # output_img_name = str(head) + \"_instance_\" + str(i) + \".jpg\" \n",
    "                    output_img_name = f\"{filename.split('.')[0]}_instance_{i}.jpg\"\n",
    "                    output_img_path = os.path.join(output_path, output_img_name)\n",
    "                    # print(output_img_path)\n",
    "                    # Save the figure\n",
    "                    plt.savefig(output_img_path, dpi=100, bbox_inches='tight', pad_inches=0)\n",
    "                    plt.close()\n",
    "                    # # Free up memory by deleting large variables\n",
    "                    # del image_dict, cam_orig, v, out\n",
    "                    # gc.collect()\n",
    "            else:\n",
    "                print(f\"No instances detected in {filename}.\")\n",
    "\n"
   ]
  }
 ],
 "metadata": {
  "kernelspec": {
   "display_name": "Python 3",
   "language": "python",
   "name": "python3"
  },
  "language_info": {
   "codemirror_mode": {
    "name": "ipython",
    "version": 3
   },
   "file_extension": ".py",
   "mimetype": "text/x-python",
   "name": "python",
   "nbconvert_exporter": "python",
   "pygments_lexer": "ipython3",
   "version": "3.8.12"
  },
  "pycharm": {
   "stem_cell": {
    "cell_type": "raw",
    "metadata": {
     "collapsed": false
    },
    "source": []
   }
  }
 },
 "nbformat": 4,
 "nbformat_minor": 4
}
