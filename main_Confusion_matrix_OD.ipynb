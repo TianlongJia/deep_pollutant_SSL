{
 "cells": [
  {
   "cell_type": "markdown",
   "metadata": {},
   "source": [
    "# Confusion matrix for CocoAPI\n",
    "\n",
    "The \"main_Evaluate_Object_Detection.ipynb\" uses the CocoApi to evaluate the model performance, e.g., AP50. But that code does not include the output of confusion matrix (e.g., TP, FP, and FN).\n",
    "\n",
    "This script provides the output of confusion matrix using **FiftyOne** tool\n",
    "\n",
    "FiftyOne’s implementation of COCO-style evaluation matches the reference implementation available via pycocotools (https://github.com/cocodataset/cocoapi).\n",
    "\n",
    "Refer to: \n",
    "https://docs.voxel51.com/integrations/coco.html#loading-coco-formatted-data"
   ]
  },
  {
   "cell_type": "markdown",
   "metadata": {},
   "source": [
    "## Install fiftyone and cocoapi"
   ]
  },
  {
   "cell_type": "code",
   "execution_count": null,
   "metadata": {},
   "outputs": [],
   "source": [
    "#   For windows:\n",
    "#        pip3 install fiftyone --user\n",
    "\n",
    "#   For windows:\n",
    "#        install pycocotools-2.0:\n",
    "#        pip install git+https://github.com/philferriere/cocoapi.git#egg=pycocotools^&subdirectory=PythonAPI"
   ]
  },
  {
   "cell_type": "markdown",
   "metadata": {},
   "source": [
    "## Load coco dataset (ground-truth)\n",
    "\n",
    "**Note**: \n",
    "\n",
    "(1) the folder/path of images in json file must contains \" / \" instead of \" \\ \" \n",
    "\n",
    "(2) In json file, \"image_id\" and the \"id\" for annotations must not start \"0\", otherwise the results will be not correct"
   ]
  },
  {
   "cell_type": "code",
   "execution_count": null,
   "metadata": {},
   "outputs": [],
   "source": [
    "import fiftyone as fo\n",
    "\n",
    "# A name for the dataset\n",
    "# name = \"my-dataset\"\n",
    "\n",
    "# GJO test dataset\n",
    "image_path = r\"U:/AIMMW/Tianlong/Peng/Paper_SSL/Dataset/labeled_data/subsets/Test/test\"\n",
    "labels_path = r\"U:/AIMMW/Tianlong/Peng/Paper_SSL/Dataset/labeled_data/subsets/Test/test.json\"\n",
    "\n",
    "# The type of the dataset being imported\n",
    "dataset_type = fo.types.COCODetectionDataset  # coco format\n",
    "\n",
    "dataset = fo.Dataset.from_dir(\n",
    "    dataset_type=dataset_type,\n",
    "    data_path=image_path,\n",
    "    labels_path=labels_path,\n",
    "    # include_id=True,\n",
    "    # name=name,\n",
    ")\n",
    "# print(dataset)"
   ]
  },
  {
   "cell_type": "code",
   "execution_count": null,
   "metadata": {},
   "outputs": [],
   "source": [
    "# show the first data in the dataset,\n",
    "# Carefully check the \"label\" name!\n",
    "# Note the coordinates of the bbox is scaled into [0,1]\n",
    "\n",
    "# print(dataset.first().detections.detections[0])"
   ]
  },
  {
   "cell_type": "markdown",
   "metadata": {},
   "source": [
    "## Load predictions\n",
    "\n",
    "When inferencing a model on a test dataset using Detectron2, it will output a prediction file named \"coco_instances_results.json\" with predicted bbox"
   ]
  },
  {
   "cell_type": "code",
   "execution_count": null,
   "metadata": {},
   "outputs": [],
   "source": [
    "import fiftyone.utils.coco as fouc\n",
    "import json\n",
    "\n",
    "#\n",
    "# Mock COCO predictions, where:\n",
    "# - `image_id` corresponds to the `coco_id` field of `coco_dataset`\n",
    "# - `category_id` corresponds to classes in `coco_dataset.default_classes`\n",
    "#\n",
    "# predictions = [\n",
    "#     {\"image_id\": 1, \"category_id\": 18, \"bbox\": [258, 41, 348, 243], \"score\": 0.87},\n",
    "#     {\"image_id\": 2, \"category_id\": 11, \"bbox\": [61, 22, 504, 609], \"score\": 0.95},\n",
    "# ]\n",
    "\n",
    "\n",
    "with open(r'U:\\AIMMW\\Tianlong\\Peng\\Paper_SSL\\Results\\Predicted\\SC_FTAL_F2_80%_best\\coco_instances_results.json', 'r') as fcc_file:\n",
    "    fcc_data = json.load(fcc_file)\n",
    "# print(fcc_data)\n",
    "    \n",
    "predictions = fcc_data\n",
    "\n",
    "\n",
    "# Add COCO predictions to `predictions` field of dataset\n",
    "classes = ['hold_space', 'entrap bean', 'free bean',]\n",
    "# # classes = ['hold_space', 'litter',]\n",
    "fouc.add_coco_labels(dataset, \"predictions\", predictions, classes)\n",
    "\n",
    "# # Verify that predictions were added to two images\n",
    "print(dataset.count(\"predictions\"))  # 2"
   ]
  },
  {
   "cell_type": "code",
   "execution_count": null,
   "metadata": {},
   "outputs": [],
   "source": [
    "dataset"
   ]
  },
  {
   "cell_type": "code",
   "execution_count": null,
   "metadata": {},
   "outputs": [],
   "source": [
    "# show the first data (with prediction bbox) in the dataset ,\n",
    "# Carefully check the \"label\" name!\n",
    "# Note the coordinates of the predicted bbox is scaled into [0,1]\n",
    "\n",
    "# print(dataset.first())"
   ]
  },
  {
   "cell_type": "code",
   "execution_count": null,
   "metadata": {},
   "outputs": [],
   "source": [
    "# sample = dataset.first()\n",
    "# print(sample.detections.detections[0])"
   ]
  },
  {
   "cell_type": "markdown",
   "metadata": {},
   "source": [
    "## Output results \n",
    "\n",
    "by comparing ground-truth labels and predictions bbox\n",
    "\n",
    "**Note**: Predicted and ground truth objects are matched using a specified IoU threshold (default = 0.50). This threshold can be customized via the iou parameter. The IoU selection affects the calculation of TP, FN, are FP value."
   ]
  },
  {
   "cell_type": "code",
   "execution_count": 9,
   "metadata": {},
   "outputs": [
    {
     "name": "stdout",
     "output_type": "stream",
     "text": [
      "Evaluating detections...\n",
      " 100% |███████████████████| 29/29 [114.9ms elapsed, 0s remaining, 252.4 samples/s]     \n",
      "Performing IoU sweep...\n",
      " 100% |███████████████████| 29/29 [90.6ms elapsed, 0s remaining, 320.1 samples/s] \n"
     ]
    }
   ],
   "source": [
    "import fiftyone as fo\n",
    "import fiftyone.zoo as foz\n",
    "from fiftyone import ViewField as F\n",
    "\n",
    "# Evaluate the objects in the `predictions` field with respect to the\n",
    "# objects in the `ground_truth` field\n",
    "results = dataset.evaluate_detections(\n",
    "    \"predictions\",\n",
    "    gt_field=\"detections\",\n",
    "    iou=0.5,\n",
    "    method=\"coco\",   \n",
    "    eval_key=\"eval\",\n",
    "    compute_mAP=True,\n",
    ")"
   ]
  },
  {
   "cell_type": "markdown",
   "metadata": {},
   "source": [
    "### mAP\n",
    "\n",
    "Note: this is the mAP at IoU=.50:.05:.95"
   ]
  },
  {
   "cell_type": "code",
   "execution_count": 10,
   "metadata": {},
   "outputs": [
    {
     "name": "stdout",
     "output_type": "stream",
     "text": [
      "0.0\n"
     ]
    }
   ],
   "source": [
    "print(results.mAP())"
   ]
  },
  {
   "cell_type": "markdown",
   "metadata": {},
   "source": [
    "### TP, FP, FN"
   ]
  },
  {
   "cell_type": "code",
   "execution_count": 11,
   "metadata": {},
   "outputs": [
    {
     "name": "stdout",
     "output_type": "stream",
     "text": [
      "TP: 0\n",
      "FP: 18\n",
      "FN: 63\n"
     ]
    }
   ],
   "source": [
    "# Print some statistics about the total TP/FP/FN counts\n",
    "print(\"TP: %d\" % dataset.sum(\"eval_tp\"))\n",
    "print(\"FP: %d\" % dataset.sum(\"eval_fp\"))\n",
    "print(\"FN: %d\" % dataset.sum(\"eval_fn\"))"
   ]
  },
  {
   "cell_type": "markdown",
   "metadata": {},
   "source": [
    "### Precision-recall curve"
   ]
  },
  {
   "cell_type": "code",
   "execution_count": null,
   "metadata": {},
   "outputs": [],
   "source": [
    "plot = results.plot_pr_curves(classes=[\"litter\"])\n",
    "plot.show()"
   ]
  },
  {
   "cell_type": "markdown",
   "metadata": {},
   "source": [
    "### Confusion matrix"
   ]
  },
  {
   "cell_type": "code",
   "execution_count": 12,
   "metadata": {},
   "outputs": [
    {
     "name": "stdout",
     "output_type": "stream",
     "text": [
      "Evaluating detections...\n",
      " 100% |███████████████████| 29/29 [83.8ms elapsed, 0s remaining, 346.1 samples/s] \n"
     ]
    },
    {
     "data": {},
     "metadata": {},
     "output_type": "display_data"
    },
    {
     "data": {
      "text/plain": []
     },
     "metadata": {},
     "output_type": "display_data"
    },
    {
     "data": {
      "application/vnd.jupyter.widget-view+json": {
       "model_id": "81ccb948d722467abe0ca08b491a81a1",
       "version_major": 2,
       "version_minor": 0
      },
      "text/plain": [
       "FigureWidget({\n",
       "    'data': [{'mode': 'markers',\n",
       "              'opacity': 0.1,\n",
       "              'type': 'scatter',\n",
       "              'uid': 'a18f274c-5e70-4404-ae8e-b7aa89b2d96d',\n",
       "              'x': array([0, 1, 2, 3, 0, 1, 2, 3, 0, 1, 2, 3, 0, 1, 2, 3]),\n",
       "              'y': array([0, 0, 0, 0, 1, 1, 1, 1, 2, 2, 2, 2, 3, 3, 3, 3])},\n",
       "             {'colorscale': [[0.0, 'rgb(255,245,235)'], [0.125,\n",
       "                             'rgb(254,230,206)'], [0.25, 'rgb(253,208,162)'],\n",
       "                             [0.375, 'rgb(253,174,107)'], [0.5, 'rgb(253,141,60)'],\n",
       "                             [0.625, 'rgb(241,105,19)'], [0.75, 'rgb(217,72,1)'],\n",
       "                             [0.875, 'rgb(166,54,3)'], [1.0, 'rgb(127,39,4)']],\n",
       "              'hoverinfo': 'skip',\n",
       "              'showscale': False,\n",
       "              'type': 'heatmap',\n",
       "              'uid': '6480b236-3071-4f2b-88a2-d2920fb7093b',\n",
       "              'z': array([[ 0,  4, 14,  0],\n",
       "                          [ 0,  0,  0, 39],\n",
       "                          [ 0,  0,  0, 24],\n",
       "                          [ 0,  0,  0,  0]], dtype=int64),\n",
       "              'zmax': 39,\n",
       "              'zmin': 0},\n",
       "             {'colorbar': {'len': 1, 'lenmode': 'fraction'},\n",
       "              'colorscale': [[0.0, 'rgb(255,245,235)'], [0.125,\n",
       "                             'rgb(254,230,206)'], [0.25, 'rgb(253,208,162)'],\n",
       "                             [0.375, 'rgb(253,174,107)'], [0.5, 'rgb(253,141,60)'],\n",
       "                             [0.625, 'rgb(241,105,19)'], [0.75, 'rgb(217,72,1)'],\n",
       "                             [0.875, 'rgb(166,54,3)'], [1.0, 'rgb(127,39,4)']],\n",
       "              'hovertemplate': '<b>count: %{z}</b><br>truth: %{y}<br>predicted: %{x}<extra></extra>',\n",
       "              'opacity': 0.25,\n",
       "              'type': 'heatmap',\n",
       "              'uid': 'ccc0a7a1-8987-4a63-bde4-7d6e9316ddfa',\n",
       "              'z': array([[ 0,  4, 14,  0],\n",
       "                          [ 0,  0,  0, 39],\n",
       "                          [ 0,  0,  0, 24],\n",
       "                          [ 0,  0,  0,  0]], dtype=int64),\n",
       "              'zmax': 39,\n",
       "              'zmin': 0}],\n",
       "    'layout': {'clickmode': 'event',\n",
       "               'margin': {'b': 0, 'l': 0, 'r': 0, 't': 30},\n",
       "               'template': '...',\n",
       "               'title': {},\n",
       "               'xaxis': {'constrain': 'domain',\n",
       "                         'range': [-0.5, 3.5],\n",
       "                         'tickmode': 'array',\n",
       "                         'ticktext': [hold_space, entrap bean, free bean, (none)],\n",
       "                         'tickvals': array([0, 1, 2, 3])},\n",
       "               'yaxis': {'constrain': 'domain',\n",
       "                         'range': [-0.5, 3.5],\n",
       "                         'scaleanchor': 'x',\n",
       "                         'scaleratio': 1,\n",
       "                         'tickmode': 'array',\n",
       "                         'ticktext': array(['(none)', 'free bean', 'entrap bean', 'hold_space'], dtype=object),\n",
       "                         'tickvals': array([0, 1, 2, 3])}}\n",
       "})"
      ]
     },
     "metadata": {},
     "output_type": "display_data"
    }
   ],
   "source": [
    "import fiftyone as fo\n",
    "import fiftyone.zoo as foz\n",
    "\n",
    "\n",
    "# Perform evaluation, allowing objects to be matched between classes\n",
    "results = dataset.evaluate_detections(\n",
    "    \"predictions\",\n",
    "    gt_field=\"detections\",\n",
    "    method=\"coco\",\n",
    "    classwise=True,\n",
    ")\n",
    "\n",
    "# Generate a confusion matrix for the specified classes\n",
    "plot = results.plot_confusion_matrix(classes = ['hold_space', 'entrap bean', 'free bean'])\n",
    "plot.show()"
   ]
  }
 ],
 "metadata": {
  "kernelspec": {
   "display_name": "Tools",
   "language": "python",
   "name": "python3"
  },
  "language_info": {
   "codemirror_mode": {
    "name": "ipython",
    "version": 3
   },
   "file_extension": ".py",
   "mimetype": "text/x-python",
   "name": "python",
   "nbconvert_exporter": "python",
   "pygments_lexer": "ipython3",
   "version": "3.9.12"
  }
 },
 "nbformat": 4,
 "nbformat_minor": 2
}
